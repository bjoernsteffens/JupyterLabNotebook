{
 "cells": [
  {
   "cell_type": "markdown",
   "id": "87f83eae-5d48-406d-af58-d743764c3a5b",
   "metadata": {},
   "source": [
    "# My Jupyter Notebook on IBM Watson Studio"
   ]
  },
  {
   "cell_type": "markdown",
   "id": "8264bf58-bbde-430b-9c02-fd1463d519ad",
   "metadata": {},
   "source": [
    "**Bjoern W. Steffens** <br />\n",
    "Head Strategic Security Projects"
   ]
  },
  {
   "cell_type": "markdown",
   "id": "15ec6793-da12-45bd-9a94-2e20ddd427ec",
   "metadata": {},
   "source": [
    "*Data science has interested me since long and I believe it has now gotten to a point where it can be explored commercially with more success compared to 5 years ago.*"
   ]
  },
  {
   "cell_type": "markdown",
   "id": "b7c86366-e822-433b-b7a7-c295705ef271",
   "metadata": {},
   "source": [
    "### Python provides various data types. Although there is no strict type matching like in C, you do need to pay attention to what data types you mix and match. If you need to convert between types it is called type-casting. Do however pay attention so that you do not lose or throw away data during type-casting"
   ]
  },
  {
   "cell_type": "code",
   "execution_count": 6,
   "id": "994b2f6d-515a-4bfa-ade8-d8c260a50ea2",
   "metadata": {},
   "outputs": [
    {
     "name": "stdout",
     "output_type": "stream",
     "text": [
      "Adding Integers\n",
      "30\n",
      "\n",
      "Adding Floating Point Numbers\n",
      "23.0\n",
      "\n",
      "Adding Integers and Floating Point Numbers\n",
      "53.0\n"
     ]
    }
   ],
   "source": [
    "v_INT_A = 10\n",
    "v_INT_B = 20\n",
    "\n",
    "v_FLOAT_A = 10.45\n",
    "v_FLOAT_B = 12.55\n",
    "\n",
    "print('Adding Integers')\n",
    "print(v_INT_A + v_INT_B)\n",
    "\n",
    "print ('')\n",
    "print('Adding Floating Point Numbers')\n",
    "print(v_FLOAT_A + v_FLOAT_B)\n",
    "\n",
    "print('')\n",
    "print('Adding Integers and Floating Point Numbers')\n",
    "print(v_INT_A + v_INT_B + v_FLOAT_A + v_FLOAT_B)\n",
    "\n"
   ]
  },
  {
   "cell_type": "markdown",
   "id": "92364b7d-f221-4bc2-beb6-17ce320dd99f",
   "metadata": {
    "tags": []
   },
   "source": [
    "# Using a combination of both Markdown and HTML in the same cell\n",
    "\n",
    "## Horisontal rule\n",
    "***\n",
    "\n",
    "## Lists\n",
    "***\n",
    "\n",
    "### Ordered List (numbered)\n",
    "<ol>\n",
    "    <li>This is the first line</li>\n",
    "    <li>This is the second line and so forth ...</li>\n",
    "</ol>\n",
    "   \n",
    "### Unordered List (bulleted)\n",
    "<ul>\n",
    "    <li>This is the first line</li>\n",
    "    <li>This is the second line and so forth ...</li>\n",
    "</ul>\n",
    "  \n",
    "### Tables\n",
    "***\n",
    "\n",
    "| Software        | Price | # Enterprise Discount |\n",
    "|:----------------|:-----:|----------------------:|\n",
    "| MS Office 365   |  1.99 |                   739 |\n",
    "| Google Cloud    |  1.89 |                     6 |\n",
    "| Amazon Cloud    |  1.99 |                     6 |\n",
    "| Facebook Cloud  |  1.89 |                     6 |\n",
    "\n",
    "\n",
    "### Links\n",
    "***\n",
    "[This is the Link-Text to example.com](https://example.com)\n",
    "\n",
    "### Code Syntax\n",
    "***\n",
    "\n",
    "```\n",
    "# =================================\n",
    "# Coding comments and instructions\n",
    "# =================================\n",
    "v_INT_A = 10\n",
    "v_INT_B = 20\n",
    "\n",
    "v_FLOAT_A = 10.45\n",
    "v_FLOAT_B = 12.55\n",
    "\n",
    "print('Adding Integers')\n",
    "print(v_INT_A + v_INT_B)\n",
    "\n",
    "print ('')\n",
    "print('Adding Floating Point Numbers')\n",
    "print(v_FLOAT_A + v_FLOAT_B)\n",
    "\n",
    "print('')\n",
    "print('Adding Integers and Floating Point Numbers')\n",
    "print(v_INT_A + v_INT_B + v_FLOAT_A + v_FLOAT_B)\n",
    "```\n"
   ]
  },
  {
   "cell_type": "code",
   "execution_count": null,
   "id": "289fe403-6b58-4e37-b79a-af0dfce00626",
   "metadata": {},
   "outputs": [],
   "source": []
  }
 ],
 "metadata": {
  "kernelspec": {
   "display_name": "Python 3 (ipykernel)",
   "language": "python",
   "name": "python3"
  },
  "language_info": {
   "codemirror_mode": {
    "name": "ipython",
    "version": 3
   },
   "file_extension": ".py",
   "mimetype": "text/x-python",
   "name": "python",
   "nbconvert_exporter": "python",
   "pygments_lexer": "ipython3",
   "version": "3.9.12"
  }
 },
 "nbformat": 4,
 "nbformat_minor": 5
}
